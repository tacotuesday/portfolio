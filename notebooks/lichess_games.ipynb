{
 "cells": [
  {
   "cell_type": "markdown",
   "source": [
    "# Lichess game dataset\n",
    "## General Info\n",
    "As a passionate chess player, I am always interested in learning from how others play the game. When I saw that [Mitchell J](https://www.kaggle.com/datasnaek) uploaded a data set of just over 20,000 games collected from a selection of users on the site Lichess.org, I knew that I had to dig into it.\n",
    "\n",
    "### Original Dataset Features\n",
    "- Game ID\n",
    "- Rated (T/F)\n",
    "- Start Time\n",
    "- End Time\n",
    "- Number of Turns\n",
    "- Game Status\n",
    "- Winner\n",
    "- Time Increment\n",
    "- White Player ID\n",
    "- White Player Rating\n",
    "- Black Player ID\n",
    "- Black Player Rating\n",
    "- All Match Moves in Standard Chess Notation\n",
    "- Opening Eco, the standard code for an opening\n",
    "- Opening Name\n",
    "- Opening Ply (Number of moves in the opening phase)\n",
    "\n",
    "A note from [Mitchell](https://www.kaggle.com/datasnaek) on how to update the dataset:\n",
    "> I collected this data using the Lichess API, which enables collection of any given users game history. The difficult part was collecting usernames to use, however the API also enables dumping of all users in a Lichess team. There are several teams on Lichess with over 1,500 players, so this proved an effective way to get users to collect games from.\n",
    "\n",
    "### Questions of Interest\n",
    "- What is the percentage of rated games?\n",
    "- What is the typical length of a game on Lichess? Do time controls typically change the pace of the game? (Where in the total allowed time do games typically end?)\n",
    "- For how many turns do games typically last?\n",
    "- What is the typical rating differential between players? Are wins correlated to higher rating? By how much?\n",
    "- Which are the most effective openings by win percentage? Least effective? Which openings are used the most at different ratings? How far do people stay in opening books, and for which openings?\n",
    "- Who are the most prolific players, and what is their rating?\n",
    "- Do the number of games a user plays correlate to their rating?\n",
    "\n",
    "## Import and clean the dataset"
   ],
   "metadata": {
    "collapsed": false
   }
  },
  {
   "cell_type": "code",
   "execution_count": 16,
   "outputs": [
    {
     "data": {
      "text/plain": "         id  rated       created_at     last_move_at  turns victory_status  \\\n0  TZJHLljE  False 1504210000000.00 1504210000000.00     13      outoftime   \n1  l1NXvwaE   True 1504130000000.00 1504130000000.00     16         resign   \n2  mIICvQHh   True 1504130000000.00 1504130000000.00     61           mate   \n3  kWKvrqYL   True 1504110000000.00 1504110000000.00     61           mate   \n4  9tXo1AUZ   True 1504030000000.00 1504030000000.00     95           mate   \n\n  winner increment_code       white_id  white_rating      black_id  \\\n0  white           15+2       bourgris          1500          a-00   \n1  black           5+10           a-00          1322     skinnerua   \n2  white           5+10         ischia          1496          a-00   \n3  white           20+0  daniamurashov          1439  adivanov2009   \n4  white           30+3      nik221107          1523  adivanov2009   \n\n   black_rating                                              moves  \\\n0          1191  d4 d5 c4 c6 cxd5 e6 dxe6 fxe6 Nf3 Bb4+ Nc3 Ba5...   \n1          1261  d4 Nc6 e4 e5 f4 f6 dxe5 fxe5 fxe5 Nxe5 Qd4 Nc6...   \n2          1500  e4 e5 d3 d6 Be3 c6 Be2 b5 Nd2 a5 a4 c5 axb5 Nc...   \n3          1454  d4 d5 Nf3 Bf5 Nc3 Nf6 Bf4 Ng4 e3 Nc6 Be2 Qd7 O...   \n4          1469  e4 e5 Nf3 d6 d4 Nc6 d5 Nb4 a3 Na6 Nc3 Be7 b4 N...   \n\n  opening_eco                            opening_name  opening_ply  \n0         D10        Slav Defense: Exchange Variation            5  \n1         B00  Nimzowitsch Defense: Kennedy Variation            4  \n2         C20   King's Pawn Game: Leonardis Variation            3  \n3         D02  Queen's Pawn Game: Zukertort Variation            3  \n4         C41                        Philidor Defense            5  ",
      "text/html": "<div>\n<style scoped>\n    .dataframe tbody tr th:only-of-type {\n        vertical-align: middle;\n    }\n\n    .dataframe tbody tr th {\n        vertical-align: top;\n    }\n\n    .dataframe thead th {\n        text-align: right;\n    }\n</style>\n<table border=\"1\" class=\"dataframe\">\n  <thead>\n    <tr style=\"text-align: right;\">\n      <th></th>\n      <th>id</th>\n      <th>rated</th>\n      <th>created_at</th>\n      <th>last_move_at</th>\n      <th>turns</th>\n      <th>victory_status</th>\n      <th>winner</th>\n      <th>increment_code</th>\n      <th>white_id</th>\n      <th>white_rating</th>\n      <th>black_id</th>\n      <th>black_rating</th>\n      <th>moves</th>\n      <th>opening_eco</th>\n      <th>opening_name</th>\n      <th>opening_ply</th>\n    </tr>\n  </thead>\n  <tbody>\n    <tr>\n      <th>0</th>\n      <td>TZJHLljE</td>\n      <td>False</td>\n      <td>1504210000000.00</td>\n      <td>1504210000000.00</td>\n      <td>13</td>\n      <td>outoftime</td>\n      <td>white</td>\n      <td>15+2</td>\n      <td>bourgris</td>\n      <td>1500</td>\n      <td>a-00</td>\n      <td>1191</td>\n      <td>d4 d5 c4 c6 cxd5 e6 dxe6 fxe6 Nf3 Bb4+ Nc3 Ba5...</td>\n      <td>D10</td>\n      <td>Slav Defense: Exchange Variation</td>\n      <td>5</td>\n    </tr>\n    <tr>\n      <th>1</th>\n      <td>l1NXvwaE</td>\n      <td>True</td>\n      <td>1504130000000.00</td>\n      <td>1504130000000.00</td>\n      <td>16</td>\n      <td>resign</td>\n      <td>black</td>\n      <td>5+10</td>\n      <td>a-00</td>\n      <td>1322</td>\n      <td>skinnerua</td>\n      <td>1261</td>\n      <td>d4 Nc6 e4 e5 f4 f6 dxe5 fxe5 fxe5 Nxe5 Qd4 Nc6...</td>\n      <td>B00</td>\n      <td>Nimzowitsch Defense: Kennedy Variation</td>\n      <td>4</td>\n    </tr>\n    <tr>\n      <th>2</th>\n      <td>mIICvQHh</td>\n      <td>True</td>\n      <td>1504130000000.00</td>\n      <td>1504130000000.00</td>\n      <td>61</td>\n      <td>mate</td>\n      <td>white</td>\n      <td>5+10</td>\n      <td>ischia</td>\n      <td>1496</td>\n      <td>a-00</td>\n      <td>1500</td>\n      <td>e4 e5 d3 d6 Be3 c6 Be2 b5 Nd2 a5 a4 c5 axb5 Nc...</td>\n      <td>C20</td>\n      <td>King's Pawn Game: Leonardis Variation</td>\n      <td>3</td>\n    </tr>\n    <tr>\n      <th>3</th>\n      <td>kWKvrqYL</td>\n      <td>True</td>\n      <td>1504110000000.00</td>\n      <td>1504110000000.00</td>\n      <td>61</td>\n      <td>mate</td>\n      <td>white</td>\n      <td>20+0</td>\n      <td>daniamurashov</td>\n      <td>1439</td>\n      <td>adivanov2009</td>\n      <td>1454</td>\n      <td>d4 d5 Nf3 Bf5 Nc3 Nf6 Bf4 Ng4 e3 Nc6 Be2 Qd7 O...</td>\n      <td>D02</td>\n      <td>Queen's Pawn Game: Zukertort Variation</td>\n      <td>3</td>\n    </tr>\n    <tr>\n      <th>4</th>\n      <td>9tXo1AUZ</td>\n      <td>True</td>\n      <td>1504030000000.00</td>\n      <td>1504030000000.00</td>\n      <td>95</td>\n      <td>mate</td>\n      <td>white</td>\n      <td>30+3</td>\n      <td>nik221107</td>\n      <td>1523</td>\n      <td>adivanov2009</td>\n      <td>1469</td>\n      <td>e4 e5 Nf3 d6 d4 Nc6 d5 Nb4 a3 Na6 Nc3 Be7 b4 N...</td>\n      <td>C41</td>\n      <td>Philidor Defense</td>\n      <td>5</td>\n    </tr>\n  </tbody>\n</table>\n</div>"
     },
     "execution_count": 16,
     "metadata": {},
     "output_type": "execute_result"
    }
   ],
   "source": [
    "import pandas as pd\n",
    "import matplotlib.pyplot as plt\n",
    "import seaborn as sns\n",
    "pd.options.display.float_format = '{:.2f}'.format\n",
    "\n",
    "original_data = pd.read_csv('../data/lichess_games.csv')\n",
    "original_data.head()"
   ],
   "metadata": {
    "collapsed": false,
    "ExecuteTime": {
     "start_time": "2023-04-01T20:57:32.717868Z",
     "end_time": "2023-04-01T20:57:32.836824Z"
    }
   }
  },
  {
   "cell_type": "code",
   "execution_count": 22,
   "outputs": [
    {
     "name": "stdout",
     "output_type": "stream",
     "text": [
      "<class 'pandas.core.frame.DataFrame'>\n",
      "RangeIndex: 20058 entries, 0 to 20057\n",
      "Data columns (total 16 columns):\n",
      " #   Column          Non-Null Count  Dtype  \n",
      "---  ------          --------------  -----  \n",
      " 0   id              20058 non-null  object \n",
      " 1   rated           20058 non-null  bool   \n",
      " 2   created_at      20058 non-null  float64\n",
      " 3   last_move_at    20058 non-null  float64\n",
      " 4   turns           20058 non-null  int64  \n",
      " 5   victory_status  20058 non-null  object \n",
      " 6   winner          20058 non-null  object \n",
      " 7   increment_code  20058 non-null  object \n",
      " 8   white_id        20058 non-null  object \n",
      " 9   white_rating    20058 non-null  int64  \n",
      " 10  black_id        20058 non-null  object \n",
      " 11  black_rating    20058 non-null  int64  \n",
      " 12  moves           20058 non-null  object \n",
      " 13  opening_eco     20058 non-null  object \n",
      " 14  opening_name    20058 non-null  object \n",
      " 15  opening_ply     20058 non-null  int64  \n",
      "dtypes: bool(1), float64(2), int64(4), object(9)\n",
      "memory usage: 2.3+ MB\n"
     ]
    }
   ],
   "source": [
    "# I typically specify each column's type, but this is a tiny data set.\n",
    "original_data.info()"
   ],
   "metadata": {
    "collapsed": false,
    "ExecuteTime": {
     "start_time": "2023-04-01T21:02:34.091370Z",
     "end_time": "2023-04-01T21:02:34.127390Z"
    }
   }
  },
  {
   "cell_type": "code",
   "execution_count": 3,
   "outputs": [
    {
     "data": {
      "text/plain": "              id  rated       created_at     last_move_at    turns  \\\ncount      20058  20058         20058.00         20058.00 20058.00   \nunique     19113      2              NaN              NaN      NaN   \ntop     XRuQPSzH   True              NaN              NaN      NaN   \nfreq           5  16155              NaN              NaN      NaN   \nmean         NaN    NaN 1483616852629.09 1483617722336.14    60.47   \nstd          NaN    NaN   28501509421.00   28501400588.89    33.57   \nmin          NaN    NaN 1376771633173.00 1376771863841.00     1.00   \n25%          NaN    NaN 1477547500000.00 1477547500000.00    37.00   \n50%          NaN    NaN 1496010000000.00 1496010000000.00    55.00   \n75%          NaN    NaN 1503170000000.00 1503170000000.00    79.00   \nmax          NaN    NaN 1504493143790.00 1504493827262.00   349.00   \n\n       victory_status winner increment_code white_id  white_rating black_id  \\\ncount           20058  20058          20058    20058      20058.00    20058   \nunique              4      3            400     9438           NaN     9331   \ntop            resign  white           10+0  taranga           NaN  taranga   \nfreq            11147  10001           7721       72           NaN       82   \nmean              NaN    NaN            NaN      NaN       1596.63      NaN   \nstd               NaN    NaN            NaN      NaN        291.25      NaN   \nmin               NaN    NaN            NaN      NaN        784.00      NaN   \n25%               NaN    NaN            NaN      NaN       1398.00      NaN   \n50%               NaN    NaN            NaN      NaN       1567.00      NaN   \n75%               NaN    NaN            NaN      NaN       1793.00      NaN   \nmax               NaN    NaN            NaN      NaN       2700.00      NaN   \n\n        black_rating  moves opening_eco          opening_name  opening_ply  \ncount       20058.00  20058       20058                 20058     20058.00  \nunique           NaN  18920         365                  1477          NaN  \ntop              NaN  e4 e5         A00  Van't Kruijs Opening          NaN  \nfreq             NaN     27        1007                   368          NaN  \nmean         1588.83    NaN         NaN                   NaN         4.82  \nstd           291.04    NaN         NaN                   NaN         2.80  \nmin           789.00    NaN         NaN                   NaN         1.00  \n25%          1391.00    NaN         NaN                   NaN         3.00  \n50%          1562.00    NaN         NaN                   NaN         4.00  \n75%          1784.00    NaN         NaN                   NaN         6.00  \nmax          2723.00    NaN         NaN                   NaN        28.00  ",
      "text/html": "<div>\n<style scoped>\n    .dataframe tbody tr th:only-of-type {\n        vertical-align: middle;\n    }\n\n    .dataframe tbody tr th {\n        vertical-align: top;\n    }\n\n    .dataframe thead th {\n        text-align: right;\n    }\n</style>\n<table border=\"1\" class=\"dataframe\">\n  <thead>\n    <tr style=\"text-align: right;\">\n      <th></th>\n      <th>id</th>\n      <th>rated</th>\n      <th>created_at</th>\n      <th>last_move_at</th>\n      <th>turns</th>\n      <th>victory_status</th>\n      <th>winner</th>\n      <th>increment_code</th>\n      <th>white_id</th>\n      <th>white_rating</th>\n      <th>black_id</th>\n      <th>black_rating</th>\n      <th>moves</th>\n      <th>opening_eco</th>\n      <th>opening_name</th>\n      <th>opening_ply</th>\n    </tr>\n  </thead>\n  <tbody>\n    <tr>\n      <th>count</th>\n      <td>20058</td>\n      <td>20058</td>\n      <td>20058.00</td>\n      <td>20058.00</td>\n      <td>20058.00</td>\n      <td>20058</td>\n      <td>20058</td>\n      <td>20058</td>\n      <td>20058</td>\n      <td>20058.00</td>\n      <td>20058</td>\n      <td>20058.00</td>\n      <td>20058</td>\n      <td>20058</td>\n      <td>20058</td>\n      <td>20058.00</td>\n    </tr>\n    <tr>\n      <th>unique</th>\n      <td>19113</td>\n      <td>2</td>\n      <td>NaN</td>\n      <td>NaN</td>\n      <td>NaN</td>\n      <td>4</td>\n      <td>3</td>\n      <td>400</td>\n      <td>9438</td>\n      <td>NaN</td>\n      <td>9331</td>\n      <td>NaN</td>\n      <td>18920</td>\n      <td>365</td>\n      <td>1477</td>\n      <td>NaN</td>\n    </tr>\n    <tr>\n      <th>top</th>\n      <td>XRuQPSzH</td>\n      <td>True</td>\n      <td>NaN</td>\n      <td>NaN</td>\n      <td>NaN</td>\n      <td>resign</td>\n      <td>white</td>\n      <td>10+0</td>\n      <td>taranga</td>\n      <td>NaN</td>\n      <td>taranga</td>\n      <td>NaN</td>\n      <td>e4 e5</td>\n      <td>A00</td>\n      <td>Van't Kruijs Opening</td>\n      <td>NaN</td>\n    </tr>\n    <tr>\n      <th>freq</th>\n      <td>5</td>\n      <td>16155</td>\n      <td>NaN</td>\n      <td>NaN</td>\n      <td>NaN</td>\n      <td>11147</td>\n      <td>10001</td>\n      <td>7721</td>\n      <td>72</td>\n      <td>NaN</td>\n      <td>82</td>\n      <td>NaN</td>\n      <td>27</td>\n      <td>1007</td>\n      <td>368</td>\n      <td>NaN</td>\n    </tr>\n    <tr>\n      <th>mean</th>\n      <td>NaN</td>\n      <td>NaN</td>\n      <td>1483616852629.09</td>\n      <td>1483617722336.14</td>\n      <td>60.47</td>\n      <td>NaN</td>\n      <td>NaN</td>\n      <td>NaN</td>\n      <td>NaN</td>\n      <td>1596.63</td>\n      <td>NaN</td>\n      <td>1588.83</td>\n      <td>NaN</td>\n      <td>NaN</td>\n      <td>NaN</td>\n      <td>4.82</td>\n    </tr>\n    <tr>\n      <th>std</th>\n      <td>NaN</td>\n      <td>NaN</td>\n      <td>28501509421.00</td>\n      <td>28501400588.89</td>\n      <td>33.57</td>\n      <td>NaN</td>\n      <td>NaN</td>\n      <td>NaN</td>\n      <td>NaN</td>\n      <td>291.25</td>\n      <td>NaN</td>\n      <td>291.04</td>\n      <td>NaN</td>\n      <td>NaN</td>\n      <td>NaN</td>\n      <td>2.80</td>\n    </tr>\n    <tr>\n      <th>min</th>\n      <td>NaN</td>\n      <td>NaN</td>\n      <td>1376771633173.00</td>\n      <td>1376771863841.00</td>\n      <td>1.00</td>\n      <td>NaN</td>\n      <td>NaN</td>\n      <td>NaN</td>\n      <td>NaN</td>\n      <td>784.00</td>\n      <td>NaN</td>\n      <td>789.00</td>\n      <td>NaN</td>\n      <td>NaN</td>\n      <td>NaN</td>\n      <td>1.00</td>\n    </tr>\n    <tr>\n      <th>25%</th>\n      <td>NaN</td>\n      <td>NaN</td>\n      <td>1477547500000.00</td>\n      <td>1477547500000.00</td>\n      <td>37.00</td>\n      <td>NaN</td>\n      <td>NaN</td>\n      <td>NaN</td>\n      <td>NaN</td>\n      <td>1398.00</td>\n      <td>NaN</td>\n      <td>1391.00</td>\n      <td>NaN</td>\n      <td>NaN</td>\n      <td>NaN</td>\n      <td>3.00</td>\n    </tr>\n    <tr>\n      <th>50%</th>\n      <td>NaN</td>\n      <td>NaN</td>\n      <td>1496010000000.00</td>\n      <td>1496010000000.00</td>\n      <td>55.00</td>\n      <td>NaN</td>\n      <td>NaN</td>\n      <td>NaN</td>\n      <td>NaN</td>\n      <td>1567.00</td>\n      <td>NaN</td>\n      <td>1562.00</td>\n      <td>NaN</td>\n      <td>NaN</td>\n      <td>NaN</td>\n      <td>4.00</td>\n    </tr>\n    <tr>\n      <th>75%</th>\n      <td>NaN</td>\n      <td>NaN</td>\n      <td>1503170000000.00</td>\n      <td>1503170000000.00</td>\n      <td>79.00</td>\n      <td>NaN</td>\n      <td>NaN</td>\n      <td>NaN</td>\n      <td>NaN</td>\n      <td>1793.00</td>\n      <td>NaN</td>\n      <td>1784.00</td>\n      <td>NaN</td>\n      <td>NaN</td>\n      <td>NaN</td>\n      <td>6.00</td>\n    </tr>\n    <tr>\n      <th>max</th>\n      <td>NaN</td>\n      <td>NaN</td>\n      <td>1504493143790.00</td>\n      <td>1504493827262.00</td>\n      <td>349.00</td>\n      <td>NaN</td>\n      <td>NaN</td>\n      <td>NaN</td>\n      <td>NaN</td>\n      <td>2700.00</td>\n      <td>NaN</td>\n      <td>2723.00</td>\n      <td>NaN</td>\n      <td>NaN</td>\n      <td>NaN</td>\n      <td>28.00</td>\n    </tr>\n  </tbody>\n</table>\n</div>"
     },
     "execution_count": 3,
     "metadata": {},
     "output_type": "execute_result"
    }
   ],
   "source": [
    "original_data.describe(include='all')"
   ],
   "metadata": {
    "collapsed": false,
    "ExecuteTime": {
     "start_time": "2023-04-01T20:55:19.749522Z",
     "end_time": "2023-04-01T20:55:19.840375Z"
    }
   }
  },
  {
   "cell_type": "code",
   "execution_count": 4,
   "outputs": [
    {
     "data": {
      "text/plain": "id                0\nrated             0\ncreated_at        0\nlast_move_at      0\nturns             0\nvictory_status    0\nwinner            0\nincrement_code    0\nwhite_id          0\nwhite_rating      0\nblack_id          0\nblack_rating      0\nmoves             0\nopening_eco       0\nopening_name      0\nopening_ply       0\ndtype: int64"
     },
     "execution_count": 4,
     "metadata": {},
     "output_type": "execute_result"
    }
   ],
   "source": [
    "original_data.isnull().sum()"
   ],
   "metadata": {
    "collapsed": false,
    "ExecuteTime": {
     "start_time": "2023-04-01T20:55:19.794308Z",
     "end_time": "2023-04-01T20:55:19.841104Z"
    }
   }
  },
  {
   "cell_type": "code",
   "execution_count": 5,
   "outputs": [
    {
     "data": {
      "text/plain": "              id  rated       created_at     last_move_at    turns  \\\ncount      20058  20058         20058.00         20058.00 20058.00   \nunique     19113      2              NaN              NaN      NaN   \ntop     XRuQPSzH   True              NaN              NaN      NaN   \nfreq           5  16155              NaN              NaN      NaN   \nmean         NaN    NaN 1483616852629.09 1483617722336.14    60.47   \nstd          NaN    NaN   28501509421.00   28501400588.89    33.57   \nmin          NaN    NaN 1376771633173.00 1376771863841.00     1.00   \n25%          NaN    NaN 1477547500000.00 1477547500000.00    37.00   \n50%          NaN    NaN 1496010000000.00 1496010000000.00    55.00   \n75%          NaN    NaN 1503170000000.00 1503170000000.00    79.00   \nmax          NaN    NaN 1504493143790.00 1504493827262.00   349.00   \n\n       victory_status winner increment_code white_id  white_rating black_id  \\\ncount           20058  20058          20058    20058      20058.00    20058   \nunique              4      3            400     9438           NaN     9331   \ntop            resign  white           10+0  taranga           NaN  taranga   \nfreq            11147  10001           7721       72           NaN       82   \nmean              NaN    NaN            NaN      NaN       1596.63      NaN   \nstd               NaN    NaN            NaN      NaN        291.25      NaN   \nmin               NaN    NaN            NaN      NaN        784.00      NaN   \n25%               NaN    NaN            NaN      NaN       1398.00      NaN   \n50%               NaN    NaN            NaN      NaN       1567.00      NaN   \n75%               NaN    NaN            NaN      NaN       1793.00      NaN   \nmax               NaN    NaN            NaN      NaN       2700.00      NaN   \n\n        black_rating  moves opening_eco          opening_name  opening_ply  \\\ncount       20058.00  20058       20058                 20058     20058.00   \nunique           NaN  18920         365                  1477          NaN   \ntop              NaN  e4 e5         A00  Van't Kruijs Opening          NaN   \nfreq             NaN     27        1007                   368          NaN   \nmean         1588.83    NaN         NaN                   NaN         4.82   \nstd           291.04    NaN         NaN                   NaN         2.80   \nmin           789.00    NaN         NaN                   NaN         1.00   \n25%          1391.00    NaN         NaN                   NaN         3.00   \n50%          1562.00    NaN         NaN                   NaN         4.00   \n75%          1784.00    NaN         NaN                   NaN         6.00   \nmax          2723.00    NaN         NaN                   NaN        28.00   \n\n        game_length  rating_diff  \ncount      20058.00     20058.00  \nunique          NaN          NaN  \ntop             NaN          NaN  \nfreq            NaN          NaN  \nmean      869707.05         7.80  \nstd      4814222.09       249.04  \nmin            0.00     -1605.00  \n25%            0.00      -108.00  \n50%       240612.00         3.00  \n75%       793171.25       122.00  \nmax    605844701.00      1499.00  ",
      "text/html": "<div>\n<style scoped>\n    .dataframe tbody tr th:only-of-type {\n        vertical-align: middle;\n    }\n\n    .dataframe tbody tr th {\n        vertical-align: top;\n    }\n\n    .dataframe thead th {\n        text-align: right;\n    }\n</style>\n<table border=\"1\" class=\"dataframe\">\n  <thead>\n    <tr style=\"text-align: right;\">\n      <th></th>\n      <th>id</th>\n      <th>rated</th>\n      <th>created_at</th>\n      <th>last_move_at</th>\n      <th>turns</th>\n      <th>victory_status</th>\n      <th>winner</th>\n      <th>increment_code</th>\n      <th>white_id</th>\n      <th>white_rating</th>\n      <th>black_id</th>\n      <th>black_rating</th>\n      <th>moves</th>\n      <th>opening_eco</th>\n      <th>opening_name</th>\n      <th>opening_ply</th>\n      <th>game_length</th>\n      <th>rating_diff</th>\n    </tr>\n  </thead>\n  <tbody>\n    <tr>\n      <th>count</th>\n      <td>20058</td>\n      <td>20058</td>\n      <td>20058.00</td>\n      <td>20058.00</td>\n      <td>20058.00</td>\n      <td>20058</td>\n      <td>20058</td>\n      <td>20058</td>\n      <td>20058</td>\n      <td>20058.00</td>\n      <td>20058</td>\n      <td>20058.00</td>\n      <td>20058</td>\n      <td>20058</td>\n      <td>20058</td>\n      <td>20058.00</td>\n      <td>20058.00</td>\n      <td>20058.00</td>\n    </tr>\n    <tr>\n      <th>unique</th>\n      <td>19113</td>\n      <td>2</td>\n      <td>NaN</td>\n      <td>NaN</td>\n      <td>NaN</td>\n      <td>4</td>\n      <td>3</td>\n      <td>400</td>\n      <td>9438</td>\n      <td>NaN</td>\n      <td>9331</td>\n      <td>NaN</td>\n      <td>18920</td>\n      <td>365</td>\n      <td>1477</td>\n      <td>NaN</td>\n      <td>NaN</td>\n      <td>NaN</td>\n    </tr>\n    <tr>\n      <th>top</th>\n      <td>XRuQPSzH</td>\n      <td>True</td>\n      <td>NaN</td>\n      <td>NaN</td>\n      <td>NaN</td>\n      <td>resign</td>\n      <td>white</td>\n      <td>10+0</td>\n      <td>taranga</td>\n      <td>NaN</td>\n      <td>taranga</td>\n      <td>NaN</td>\n      <td>e4 e5</td>\n      <td>A00</td>\n      <td>Van't Kruijs Opening</td>\n      <td>NaN</td>\n      <td>NaN</td>\n      <td>NaN</td>\n    </tr>\n    <tr>\n      <th>freq</th>\n      <td>5</td>\n      <td>16155</td>\n      <td>NaN</td>\n      <td>NaN</td>\n      <td>NaN</td>\n      <td>11147</td>\n      <td>10001</td>\n      <td>7721</td>\n      <td>72</td>\n      <td>NaN</td>\n      <td>82</td>\n      <td>NaN</td>\n      <td>27</td>\n      <td>1007</td>\n      <td>368</td>\n      <td>NaN</td>\n      <td>NaN</td>\n      <td>NaN</td>\n    </tr>\n    <tr>\n      <th>mean</th>\n      <td>NaN</td>\n      <td>NaN</td>\n      <td>1483616852629.09</td>\n      <td>1483617722336.14</td>\n      <td>60.47</td>\n      <td>NaN</td>\n      <td>NaN</td>\n      <td>NaN</td>\n      <td>NaN</td>\n      <td>1596.63</td>\n      <td>NaN</td>\n      <td>1588.83</td>\n      <td>NaN</td>\n      <td>NaN</td>\n      <td>NaN</td>\n      <td>4.82</td>\n      <td>869707.05</td>\n      <td>7.80</td>\n    </tr>\n    <tr>\n      <th>std</th>\n      <td>NaN</td>\n      <td>NaN</td>\n      <td>28501509421.00</td>\n      <td>28501400588.89</td>\n      <td>33.57</td>\n      <td>NaN</td>\n      <td>NaN</td>\n      <td>NaN</td>\n      <td>NaN</td>\n      <td>291.25</td>\n      <td>NaN</td>\n      <td>291.04</td>\n      <td>NaN</td>\n      <td>NaN</td>\n      <td>NaN</td>\n      <td>2.80</td>\n      <td>4814222.09</td>\n      <td>249.04</td>\n    </tr>\n    <tr>\n      <th>min</th>\n      <td>NaN</td>\n      <td>NaN</td>\n      <td>1376771633173.00</td>\n      <td>1376771863841.00</td>\n      <td>1.00</td>\n      <td>NaN</td>\n      <td>NaN</td>\n      <td>NaN</td>\n      <td>NaN</td>\n      <td>784.00</td>\n      <td>NaN</td>\n      <td>789.00</td>\n      <td>NaN</td>\n      <td>NaN</td>\n      <td>NaN</td>\n      <td>1.00</td>\n      <td>0.00</td>\n      <td>-1605.00</td>\n    </tr>\n    <tr>\n      <th>25%</th>\n      <td>NaN</td>\n      <td>NaN</td>\n      <td>1477547500000.00</td>\n      <td>1477547500000.00</td>\n      <td>37.00</td>\n      <td>NaN</td>\n      <td>NaN</td>\n      <td>NaN</td>\n      <td>NaN</td>\n      <td>1398.00</td>\n      <td>NaN</td>\n      <td>1391.00</td>\n      <td>NaN</td>\n      <td>NaN</td>\n      <td>NaN</td>\n      <td>3.00</td>\n      <td>0.00</td>\n      <td>-108.00</td>\n    </tr>\n    <tr>\n      <th>50%</th>\n      <td>NaN</td>\n      <td>NaN</td>\n      <td>1496010000000.00</td>\n      <td>1496010000000.00</td>\n      <td>55.00</td>\n      <td>NaN</td>\n      <td>NaN</td>\n      <td>NaN</td>\n      <td>NaN</td>\n      <td>1567.00</td>\n      <td>NaN</td>\n      <td>1562.00</td>\n      <td>NaN</td>\n      <td>NaN</td>\n      <td>NaN</td>\n      <td>4.00</td>\n      <td>240612.00</td>\n      <td>3.00</td>\n    </tr>\n    <tr>\n      <th>75%</th>\n      <td>NaN</td>\n      <td>NaN</td>\n      <td>1503170000000.00</td>\n      <td>1503170000000.00</td>\n      <td>79.00</td>\n      <td>NaN</td>\n      <td>NaN</td>\n      <td>NaN</td>\n      <td>NaN</td>\n      <td>1793.00</td>\n      <td>NaN</td>\n      <td>1784.00</td>\n      <td>NaN</td>\n      <td>NaN</td>\n      <td>NaN</td>\n      <td>6.00</td>\n      <td>793171.25</td>\n      <td>122.00</td>\n    </tr>\n    <tr>\n      <th>max</th>\n      <td>NaN</td>\n      <td>NaN</td>\n      <td>1504493143790.00</td>\n      <td>1504493827262.00</td>\n      <td>349.00</td>\n      <td>NaN</td>\n      <td>NaN</td>\n      <td>NaN</td>\n      <td>NaN</td>\n      <td>2700.00</td>\n      <td>NaN</td>\n      <td>2723.00</td>\n      <td>NaN</td>\n      <td>NaN</td>\n      <td>NaN</td>\n      <td>28.00</td>\n      <td>605844701.00</td>\n      <td>1499.00</td>\n    </tr>\n  </tbody>\n</table>\n</div>"
     },
     "execution_count": 5,
     "metadata": {},
     "output_type": "execute_result"
    }
   ],
   "source": [
    "# Create helper columns\n",
    "working_data = original_data.assign(game_length = lambda x:x.last_move_at.sub(x.created_at),\n",
    "                                   rating_diff = lambda x: x.white_rating.sub(x.black_rating))\n",
    "working_data.describe(include='all')"
   ],
   "metadata": {
    "collapsed": false,
    "ExecuteTime": {
     "start_time": "2023-04-01T20:55:19.817821Z",
     "end_time": "2023-04-01T20:55:19.905010Z"
    }
   }
  },
  {
   "cell_type": "code",
   "execution_count": 6,
   "outputs": [
    {
     "data": {
      "text/plain": "count           20058.00\nmean    1483616852629.09\nstd       28501509421.00\nmin     1376771633173.00\n25%     1477547500000.00\n50%     1496010000000.00\n75%     1503170000000.00\nmax     1504493143790.00\nName: created_at, dtype: float64"
     },
     "execution_count": 6,
     "metadata": {},
     "output_type": "execute_result"
    }
   ],
   "source": [
    "working_data.created_at.describe()\n",
    "# Is this a UNIX timestamp? I'll come back to this."
   ],
   "metadata": {
    "collapsed": false,
    "ExecuteTime": {
     "start_time": "2023-04-01T20:55:19.871081Z",
     "end_time": "2023-04-01T20:55:19.912458Z"
    }
   }
  },
  {
   "cell_type": "markdown",
   "source": [
    "## Explore the variables\n",
    "### Game ID"
   ],
   "metadata": {
    "collapsed": false
   }
  },
  {
   "cell_type": "code",
   "execution_count": 7,
   "outputs": [
    {
     "data": {
      "text/plain": "19113"
     },
     "execution_count": 7,
     "metadata": {},
     "output_type": "execute_result"
    }
   ],
   "source": [
    "working_data.id.nunique()"
   ],
   "metadata": {
    "collapsed": false,
    "ExecuteTime": {
     "start_time": "2023-04-01T20:55:19.876986Z",
     "end_time": "2023-04-01T20:55:19.918741Z"
    }
   }
  },
  {
   "cell_type": "code",
   "execution_count": 8,
   "outputs": [
    {
     "data": {
      "text/plain": "945"
     },
     "execution_count": 8,
     "metadata": {},
     "output_type": "execute_result"
    }
   ],
   "source": [
    "# There should be a unique ID for all games. Let's check for duplicates with `id` as a subset.\n",
    "working_data.duplicated(subset='id').sum()"
   ],
   "metadata": {
    "collapsed": false,
    "ExecuteTime": {
     "start_time": "2023-04-01T20:55:19.883943Z",
     "end_time": "2023-04-01T20:55:19.919204Z"
    }
   }
  },
  {
   "cell_type": "code",
   "execution_count": 9,
   "outputs": [
    {
     "data": {
      "text/plain": "             id  rated       created_at     last_move_at  turns  \\\n11279  061LCiAb   True 1396112980274.00 1396113867708.00     66   \n10570  061LCiAb   True 1396112980274.00 1396113867708.00     66   \n12208  079kHDqh   True 1504113218482.00 1504113454255.00     32   \n720    079kHDqh   True 1504110000000.00 1504110000000.00     32   \n3882   07e0uVvn   True 1491950000000.00 1491960000000.00     35   \n\n      victory_status winner increment_code          white_id  white_rating  \\\n11279           draw   draw          10+15           faraon7          1630   \n10570           draw   draw          10+15           faraon7          1630   \n12208         resign  black           10+0  wiggleitjiggleit          1448   \n720           resign  black           10+0  wiggleitjiggleit          1448   \n3882            mate  white           30+0      chessguy9001          1259   \n\n                 black_id  black_rating  \\\n11279  vladimir-kramnik-1          1584   \n10570  vladimir-kramnik-1          1584   \n12208          penguin_lo          1436   \n720            penguin_lo          1436   \n3882         helykopter33          1319   \n\n                                                   moves opening_eco  \\\n11279  e4 e6 Nf3 d5 exd5 exd5 Bb5+ Bd7 Bxd7+ Qxd7 O-O...         C00   \n10570  e4 e6 Nf3 d5 exd5 exd5 Bb5+ Bd7 Bxd7+ Qxd7 O-O...         C00   \n12208  d4 d5 c4 Bf5 Nf3 e6 e3 Nc6 cxd5 Qxd5 Bd3 Bb4+ ...         D02   \n720    d4 d5 c4 Bf5 Nf3 e6 e3 Nc6 cxd5 Qxd5 Bd3 Bb4+ ...         D02   \n3882   e4 e5 Nf3 Nf6 d3 Bc5 Nxe5 d6 Nc4 Bxf2+ Kxf2 Ng...         C42   \n\n                                 opening_name  opening_ply  game_length  \\\n11279        French Defense: Knight Variation            3    887434.00   \n10570        French Defense: Knight Variation            3    887434.00   \n12208  Queen's Gambit Refused: Baltic Defense            4    235773.00   \n720    Queen's Gambit Refused: Baltic Defense            4         0.00   \n3882                         Petrov's Defense            4  10000000.00   \n\n       rating_diff  \n11279           46  \n10570           46  \n12208           12  \n720             12  \n3882           -60  ",
      "text/html": "<div>\n<style scoped>\n    .dataframe tbody tr th:only-of-type {\n        vertical-align: middle;\n    }\n\n    .dataframe tbody tr th {\n        vertical-align: top;\n    }\n\n    .dataframe thead th {\n        text-align: right;\n    }\n</style>\n<table border=\"1\" class=\"dataframe\">\n  <thead>\n    <tr style=\"text-align: right;\">\n      <th></th>\n      <th>id</th>\n      <th>rated</th>\n      <th>created_at</th>\n      <th>last_move_at</th>\n      <th>turns</th>\n      <th>victory_status</th>\n      <th>winner</th>\n      <th>increment_code</th>\n      <th>white_id</th>\n      <th>white_rating</th>\n      <th>black_id</th>\n      <th>black_rating</th>\n      <th>moves</th>\n      <th>opening_eco</th>\n      <th>opening_name</th>\n      <th>opening_ply</th>\n      <th>game_length</th>\n      <th>rating_diff</th>\n    </tr>\n  </thead>\n  <tbody>\n    <tr>\n      <th>11279</th>\n      <td>061LCiAb</td>\n      <td>True</td>\n      <td>1396112980274.00</td>\n      <td>1396113867708.00</td>\n      <td>66</td>\n      <td>draw</td>\n      <td>draw</td>\n      <td>10+15</td>\n      <td>faraon7</td>\n      <td>1630</td>\n      <td>vladimir-kramnik-1</td>\n      <td>1584</td>\n      <td>e4 e6 Nf3 d5 exd5 exd5 Bb5+ Bd7 Bxd7+ Qxd7 O-O...</td>\n      <td>C00</td>\n      <td>French Defense: Knight Variation</td>\n      <td>3</td>\n      <td>887434.00</td>\n      <td>46</td>\n    </tr>\n    <tr>\n      <th>10570</th>\n      <td>061LCiAb</td>\n      <td>True</td>\n      <td>1396112980274.00</td>\n      <td>1396113867708.00</td>\n      <td>66</td>\n      <td>draw</td>\n      <td>draw</td>\n      <td>10+15</td>\n      <td>faraon7</td>\n      <td>1630</td>\n      <td>vladimir-kramnik-1</td>\n      <td>1584</td>\n      <td>e4 e6 Nf3 d5 exd5 exd5 Bb5+ Bd7 Bxd7+ Qxd7 O-O...</td>\n      <td>C00</td>\n      <td>French Defense: Knight Variation</td>\n      <td>3</td>\n      <td>887434.00</td>\n      <td>46</td>\n    </tr>\n    <tr>\n      <th>12208</th>\n      <td>079kHDqh</td>\n      <td>True</td>\n      <td>1504113218482.00</td>\n      <td>1504113454255.00</td>\n      <td>32</td>\n      <td>resign</td>\n      <td>black</td>\n      <td>10+0</td>\n      <td>wiggleitjiggleit</td>\n      <td>1448</td>\n      <td>penguin_lo</td>\n      <td>1436</td>\n      <td>d4 d5 c4 Bf5 Nf3 e6 e3 Nc6 cxd5 Qxd5 Bd3 Bb4+ ...</td>\n      <td>D02</td>\n      <td>Queen's Gambit Refused: Baltic Defense</td>\n      <td>4</td>\n      <td>235773.00</td>\n      <td>12</td>\n    </tr>\n    <tr>\n      <th>720</th>\n      <td>079kHDqh</td>\n      <td>True</td>\n      <td>1504110000000.00</td>\n      <td>1504110000000.00</td>\n      <td>32</td>\n      <td>resign</td>\n      <td>black</td>\n      <td>10+0</td>\n      <td>wiggleitjiggleit</td>\n      <td>1448</td>\n      <td>penguin_lo</td>\n      <td>1436</td>\n      <td>d4 d5 c4 Bf5 Nf3 e6 e3 Nc6 cxd5 Qxd5 Bd3 Bb4+ ...</td>\n      <td>D02</td>\n      <td>Queen's Gambit Refused: Baltic Defense</td>\n      <td>4</td>\n      <td>0.00</td>\n      <td>12</td>\n    </tr>\n    <tr>\n      <th>3882</th>\n      <td>07e0uVvn</td>\n      <td>True</td>\n      <td>1491950000000.00</td>\n      <td>1491960000000.00</td>\n      <td>35</td>\n      <td>mate</td>\n      <td>white</td>\n      <td>30+0</td>\n      <td>chessguy9001</td>\n      <td>1259</td>\n      <td>helykopter33</td>\n      <td>1319</td>\n      <td>e4 e5 Nf3 Nf6 d3 Bc5 Nxe5 d6 Nc4 Bxf2+ Kxf2 Ng...</td>\n      <td>C42</td>\n      <td>Petrov's Defense</td>\n      <td>4</td>\n      <td>10000000.00</td>\n      <td>-60</td>\n    </tr>\n  </tbody>\n</table>\n</div>"
     },
     "execution_count": 9,
     "metadata": {},
     "output_type": "execute_result"
    }
   ],
   "source": [
    "duplicated_games = working_data[working_data.duplicated(subset='id', keep=False)]\n",
    "duplicated_games.sort_values(by='id').head()"
   ],
   "metadata": {
    "collapsed": false,
    "ExecuteTime": {
     "start_time": "2023-04-01T20:55:19.889459Z",
     "end_time": "2023-04-01T20:55:19.919441Z"
    }
   }
  },
  {
   "cell_type": "markdown",
   "source": [],
   "metadata": {
    "collapsed": false
   }
  },
  {
   "cell_type": "code",
   "execution_count": 10,
   "outputs": [],
   "source": [
    "# Let's get rid of those duplicates.\n",
    "working_data = working_data.drop_duplicates(subset='id')"
   ],
   "metadata": {
    "collapsed": false,
    "ExecuteTime": {
     "start_time": "2023-04-01T20:55:19.903171Z",
     "end_time": "2023-04-01T20:55:19.919543Z"
    }
   }
  },
  {
   "cell_type": "markdown",
   "source": [
    "### Rated Games\n",
    "This indicates whether a game will affect a user's rating.\n",
    "\n",
    "Do unrated games have a correlation to time controls?\n",
    "Do higher- or lower-rated players tend to play unrated games more often?\n",
    "Do people play more turns in unrated or rated games? (Do people care as much about unrated games?)"
   ],
   "metadata": {
    "collapsed": false
   }
  },
  {
   "cell_type": "code",
   "execution_count": 24,
   "outputs": [
    {
     "data": {
      "text/plain": "True     15467\nFalse     3646\nName: rated, dtype: int64"
     },
     "execution_count": 24,
     "metadata": {},
     "output_type": "execute_result"
    }
   ],
   "source": [
    "working_data.rated.value_counts()"
   ],
   "metadata": {
    "collapsed": false,
    "ExecuteTime": {
     "start_time": "2023-04-01T21:04:18.566506Z",
     "end_time": "2023-04-01T21:04:18.570871Z"
    }
   }
  },
  {
   "cell_type": "code",
   "execution_count": 12,
   "outputs": [
    {
     "data": {
      "text/plain": "rated\nFalse   1595.87\nTrue    1597.64\nName: white_rating, dtype: float64"
     },
     "execution_count": 12,
     "metadata": {},
     "output_type": "execute_result"
    }
   ],
   "source": [
    "# TODO: Revisit this aggregation after learning the `white_rating` and `black_rating` distributions. The average may not be a good measure of central tendency.\n",
    "working_data.groupby(by='rated').white_rating.mean()"
   ],
   "metadata": {
    "collapsed": false,
    "ExecuteTime": {
     "start_time": "2023-04-01T20:55:19.918349Z",
     "end_time": "2023-04-01T20:55:19.965679Z"
    }
   }
  },
  {
   "cell_type": "markdown",
   "source": [
    "Rated games account for about 81% of all games. What is special about the games that are unrated? Do they feature large skill imbalances between opponents? Are they a time format that a user is not used to playing?"
   ],
   "metadata": {
    "collapsed": false
   }
  },
  {
   "cell_type": "markdown",
   "source": [
    "### Number of turns\n",
    "While there are some rules about draws, there are no limits to the number of turns. This variable describes the number of *half-turns* in a game. (Each turn in chess is two half-turns.)\n",
    "\n",
    "How do the number of turns affect the outcome in favor of one color or another?\n",
    "Is there a relationship between the number of turns in a game and the number of book moves in the opening? (Do theory moves keep the game going longer due to better deployment for the middle game?)\n",
    "Do any specific players have consistently longer games? What do those players have in common?\n",
    "Do any specific players have consistently shorter games? What do those players have in common?\n",
    "What is the relationship between game length and rating differential? Do closely-matched ratings go longer?"
   ],
   "metadata": {
    "collapsed": false
   }
  },
  {
   "cell_type": "code",
   "execution_count": 13,
   "outputs": [
    {
     "data": {
      "text/plain": "count   19113.00\nmean       60.51\nstd        33.49\nmin         1.00\n25%        37.00\n50%        55.00\n75%        79.00\nmax       349.00\nName: turns, dtype: float64"
     },
     "execution_count": 13,
     "metadata": {},
     "output_type": "execute_result"
    }
   ],
   "source": [
    "working_data.turns.describe()"
   ],
   "metadata": {
    "collapsed": false,
    "ExecuteTime": {
     "start_time": "2023-04-01T20:55:19.923345Z",
     "end_time": "2023-04-01T20:55:19.977978Z"
    }
   }
  },
  {
   "cell_type": "code",
   "execution_count": 21,
   "outputs": [
    {
     "data": {
      "text/plain": "<AxesSubplot: xlabel='turns', ylabel='Count'>"
     },
     "execution_count": 21,
     "metadata": {},
     "output_type": "execute_result"
    },
    {
     "data": {
      "text/plain": "<Figure size 640x480 with 1 Axes>",
      "image/png": "[encoded data removed]"
     },
     "metadata": {},
     "output_type": "display_data"
    }
   ],
   "source": [
    "sns.histplot(data=working_data.turns)"
   ],
   "metadata": {
    "collapsed": false,
    "ExecuteTime": {
     "start_time": "2023-04-01T20:59:38.445183Z",
     "end_time": "2023-04-01T20:59:38.670217Z"
    }
   }
  },
  {
   "cell_type": "markdown",
   "source": [
    "### Victory Status\n",
    "\n",
    "Checkmate is the penultimate form of victory. How common is it?"
   ],
   "metadata": {
    "collapsed": false
   }
  },
  {
   "cell_type": "code",
   "execution_count": 25,
   "outputs": [
    {
     "data": {
      "text/plain": "resign       10695\nmate          5974\noutoftime     1598\ndraw           846\nName: victory_status, dtype: int64"
     },
     "execution_count": 25,
     "metadata": {},
     "output_type": "execute_result"
    }
   ],
   "source": [
    "# Matches end in resignation nearly twice as often as they do in mate. (1.79 times)\n",
    "working_data.victory_status.value_counts()"
   ],
   "metadata": {
    "collapsed": false,
    "ExecuteTime": {
     "start_time": "2023-04-01T21:05:17.726135Z",
     "end_time": "2023-04-01T21:05:17.729272Z"
    }
   }
  },
  {
   "cell_type": "code",
   "execution_count": 85,
   "outputs": [
    {
     "data": {
      "text/plain": "<AxesSubplot: >"
     },
     "execution_count": 85,
     "metadata": {},
     "output_type": "execute_result"
    },
    {
     "data": {
      "text/plain": "<Figure size 640x480 with 1 Axes>",
      "image/png": "[encoded data removed]"
     },
     "metadata": {},
     "output_type": "display_data"
    }
   ],
   "source": [
    "working_data.victory_status.value_counts().plot(kind='bar')"
   ],
   "metadata": {
    "collapsed": false,
    "ExecuteTime": {
     "start_time": "2023-04-02T08:26:57.407032Z",
     "end_time": "2023-04-02T08:26:57.487033Z"
    }
   }
  },
  {
   "cell_type": "markdown",
   "source": [
    "### Winner\n",
    "Hmm, what is most interesting to know about the winner?\n",
    "\n",
    "When white wins, is there a particularly successful opening? (Most frequent.) How far does that opening go by the book?\n",
    "When black wins, is there a particularly unsuccessful opening? (Most frequent.) How far does that opening go by the book?\n",
    "What are the most victory conditions for each color?"
   ],
   "metadata": {
    "collapsed": false
   }
  },
  {
   "cell_type": "code",
   "execution_count": 35,
   "outputs": [
    {
     "data": {
      "text/plain": "white    9545\nblack    8680\ndraw      888\nName: winner, dtype: int64"
     },
     "execution_count": 35,
     "metadata": {},
     "output_type": "execute_result"
    }
   ],
   "source": [
    "working_data.winner.value_counts()"
   ],
   "metadata": {
    "collapsed": false,
    "ExecuteTime": {
     "start_time": "2023-04-01T21:13:28.410892Z",
     "end_time": "2023-04-01T21:13:28.413462Z"
    }
   }
  },
  {
   "cell_type": "markdown",
   "source": [
    "### Increment code\n",
    "\n",
    "10-minute Rapid is *incredibly* popular: these matches happen 5.8x as often as the next most-common time control, 15-minute Rapid. The shortest Blitz matches are 5+5. Does that mean that 3-minute Blitz has only become popular since this dataset was released (2017), or did Lichess simply not offer that time control?"
   ],
   "metadata": {
    "collapsed": false
   }
  },
  {
   "cell_type": "code",
   "execution_count": 36,
   "outputs": [
    {
     "data": {
      "text/plain": "10+0      7356\n15+0      1258\n15+15      821\n5+5        723\n5+8        678\n          ... \n17+2         1\n14+5         1\n90+120       1\n11+7         1\n14+15        1\nName: increment_code, Length: 400, dtype: int64"
     },
     "execution_count": 36,
     "metadata": {},
     "output_type": "execute_result"
    }
   ],
   "source": [
    "working_data.increment_code.value_counts()"
   ],
   "metadata": {
    "collapsed": false,
    "ExecuteTime": {
     "start_time": "2023-04-01T21:18:28.940391Z",
     "end_time": "2023-04-01T21:18:28.943810Z"
    }
   }
  },
  {
   "cell_type": "code",
   "execution_count": 37,
   "outputs": [
    {
     "data": {
      "text/plain": "5.847376788553259"
     },
     "execution_count": 37,
     "metadata": {},
     "output_type": "execute_result"
    }
   ],
   "source": [
    "# I need to remember/relearn how to print statements based on categorical value counts."
   ],
   "metadata": {
    "collapsed": false,
    "ExecuteTime": {
     "start_time": "2023-04-01T21:19:17.780599Z",
     "end_time": "2023-04-01T21:19:17.784154Z"
    }
   }
  },
  {
   "cell_type": "markdown",
   "source": [
    "### Player ID"
   ],
   "metadata": {
    "collapsed": false
   }
  },
  {
   "cell_type": "code",
   "execution_count": 89,
   "outputs": [
    {
     "data": {
      "text/plain": "9438"
     },
     "execution_count": 89,
     "metadata": {},
     "output_type": "execute_result"
    }
   ],
   "source": [
    "working_data.white_id.nunique()"
   ],
   "metadata": {
    "collapsed": false,
    "ExecuteTime": {
     "start_time": "2023-04-02T08:31:14.355109Z",
     "end_time": "2023-04-02T08:31:14.359372Z"
    }
   }
  },
  {
   "cell_type": "code",
   "execution_count": 90,
   "outputs": [
    {
     "data": {
      "text/plain": "9331"
     },
     "execution_count": 90,
     "metadata": {},
     "output_type": "execute_result"
    }
   ],
   "source": [
    "working_data.black_id.nunique()"
   ],
   "metadata": {
    "collapsed": false,
    "ExecuteTime": {
     "start_time": "2023-04-02T08:31:28.265501Z",
     "end_time": "2023-04-02T08:31:28.270755Z"
    }
   }
  },
  {
   "cell_type": "code",
   "execution_count": 40,
   "outputs": [
    {
     "data": {
      "text/plain": "ssf7             48\nbleda            48\nhassan1365416    44\nkhelil           41\n1240100948       38\n                 ..\ngiuseppepiro      1\nizafiyet35        1\nteldja54          1\nlearner0011       1\nmarcodisogno      1\nName: white_id, Length: 9438, dtype: int64"
     },
     "execution_count": 40,
     "metadata": {},
     "output_type": "execute_result"
    }
   ],
   "source": [
    "working_data.white_id.value_counts()"
   ],
   "metadata": {
    "collapsed": false,
    "ExecuteTime": {
     "start_time": "2023-04-01T21:24:02.764202Z",
     "end_time": "2023-04-01T21:24:02.769602Z"
    }
   }
  },
  {
   "cell_type": "code",
   "execution_count": 41,
   "outputs": [
    {
     "data": {
      "text/plain": "docboss        44\ncape217        38\namanan         33\nerikweisz      31\njdbarger       30\n               ..\nfutmas          1\nchambaru        1\nnobrainhere     1\ncitragang       1\nffbob           1\nName: black_id, Length: 9331, dtype: int64"
     },
     "execution_count": 41,
     "metadata": {},
     "output_type": "execute_result"
    }
   ],
   "source": [
    "working_data.black_id.value_counts()"
   ],
   "metadata": {
    "collapsed": false,
    "ExecuteTime": {
     "start_time": "2023-04-01T21:24:27.204105Z",
     "end_time": "2023-04-01T21:24:27.208779Z"
    }
   }
  },
  {
   "cell_type": "markdown",
   "source": [
    "### Player Ratings and Differentials"
   ],
   "metadata": {
    "collapsed": false
   }
  },
  {
   "cell_type": "code",
   "execution_count": 42,
   "outputs": [
    {
     "data": {
      "text/plain": "count   19113.00\nmean     1597.30\nstd       290.02\nmin       784.00\n25%      1401.00\n50%      1567.00\n75%      1792.00\nmax      2700.00\nName: white_rating, dtype: float64"
     },
     "execution_count": 42,
     "metadata": {},
     "output_type": "execute_result"
    }
   ],
   "source": [
    "working_data.white_rating.describe()"
   ],
   "metadata": {
    "collapsed": false,
    "ExecuteTime": {
     "start_time": "2023-04-01T21:31:13.081454Z",
     "end_time": "2023-04-01T21:31:13.086170Z"
    }
   }
  },
  {
   "cell_type": "code",
   "execution_count": 81,
   "outputs": [
    {
     "data": {
      "text/plain": "count   19113.00\nmean     1590.05\nstd       290.44\nmin       789.00\n25%      1394.00\n50%      1563.00\n75%      1785.00\nmax      2723.00\nName: black_rating, dtype: float64"
     },
     "execution_count": 81,
     "metadata": {},
     "output_type": "execute_result"
    }
   ],
   "source": [
    "working_data.black_rating.describe()"
   ],
   "metadata": {
    "collapsed": false,
    "ExecuteTime": {
     "start_time": "2023-04-02T08:21:46.351613Z",
     "end_time": "2023-04-02T08:21:46.357609Z"
    }
   }
  },
  {
   "cell_type": "code",
   "execution_count": 45,
   "outputs": [
    {
     "data": {
      "text/plain": "<AxesSubplot: >"
     },
     "execution_count": 45,
     "metadata": {},
     "output_type": "execute_result"
    },
    {
     "data": {
      "text/plain": "<Figure size 640x480 with 1 Axes>",
      "image/png": "[encoded data removed]"
     },
     "metadata": {},
     "output_type": "display_data"
    }
   ],
   "source": [
    "# Normal-ish distribution for white_rating\n",
    "sns.violinplot(working_data.white_rating, orient='h')"
   ],
   "metadata": {
    "collapsed": false,
    "ExecuteTime": {
     "start_time": "2023-04-01T21:32:53.988591Z",
     "end_time": "2023-04-01T21:32:54.114145Z"
    }
   }
  },
  {
   "cell_type": "code",
   "execution_count": 49,
   "outputs": [
    {
     "data": {
      "text/plain": "<AxesSubplot: >"
     },
     "execution_count": 49,
     "metadata": {},
     "output_type": "execute_result"
    },
    {
     "data": {
      "text/plain": "<Figure size 640x480 with 1 Axes>",
      "image/png": "[encoded data removed]"
     },
     "metadata": {},
     "output_type": "display_data"
    }
   ],
   "source": [
    "# Very similar to the white rating distribution. The obvious modes are interesting.\n",
    "sns.violinplot(working_data.black_rating, orient='h')"
   ],
   "metadata": {
    "collapsed": false,
    "ExecuteTime": {
     "start_time": "2023-04-01T21:34:38.475236Z",
     "end_time": "2023-04-01T21:34:38.591833Z"
    }
   }
  },
  {
   "cell_type": "code",
   "execution_count": 51,
   "outputs": [
    {
     "data": {
      "text/plain": "<AxesSubplot: >"
     },
     "execution_count": 51,
     "metadata": {},
     "output_type": "execute_result"
    },
    {
     "data": {
      "text/plain": "<Figure size 640x480 with 1 Axes>",
      "image/png": "[encoded data removed]"
     },
     "metadata": {},
     "output_type": "display_data"
    }
   ],
   "source": [
    "# Very normal and centered about zero. Beautiful.\n",
    "sns.violinplot(working_data.rating_diff, orient='h')"
   ],
   "metadata": {
    "collapsed": false,
    "ExecuteTime": {
     "start_time": "2023-04-01T21:35:37.595926Z",
     "end_time": "2023-04-01T21:35:37.734140Z"
    }
   }
  },
  {
   "cell_type": "markdown",
   "source": [
    "### Moves\n",
    "The moves are a string containing the moves in algebraic notation. This column is interesting as supplemental analysis of other variables. (E.g., determining whether the `book_plys` variable only applies to white, generating walkthroughs of novel games, etc.)"
   ],
   "metadata": {
    "collapsed": false
   }
  },
  {
   "cell_type": "markdown",
   "source": [
    "### Opening ECO\n",
    "Openings are classified by type in the [Encyclopedia of Chess Openings](https://en.wikipedia.org/wiki/Encyclopaedia_of_Chess_Openings). They map loosely to the `opening_name` column."
   ],
   "metadata": {
    "collapsed": false
   }
  },
  {
   "cell_type": "code",
   "execution_count": 53,
   "outputs": [
    {
     "data": {
      "text/plain": "A00    948\nC00    810\nD00    701\nB01    688\nC41    650\n      ... \nC32      1\nA67      1\nE18      1\nD95      1\nD19      1\nName: opening_eco, Length: 365, dtype: int64"
     },
     "execution_count": 53,
     "metadata": {},
     "output_type": "execute_result"
    }
   ],
   "source": [
    "working_data.opening_eco.value_counts()"
   ],
   "metadata": {
    "collapsed": false,
    "ExecuteTime": {
     "start_time": "2023-04-01T21:40:51.806244Z",
     "end_time": "2023-04-01T21:40:51.811330Z"
    }
   }
  },
  {
   "cell_type": "code",
   "execution_count": 62,
   "outputs": [
    {
     "data": {
      "text/plain": "C00    402\nC41    374\nA00    374\nB00    343\nB01    343\n      ... \nA67      1\nE42      1\nD95      1\nA97      1\nD19      1\nName: opening_eco, Length: 327, dtype: int64"
     },
     "execution_count": 62,
     "metadata": {},
     "output_type": "execute_result"
    }
   ],
   "source": [
    "# The French defense, Philidor's defense, and the Van't Kruijs opening are the most popular openings when white wins. Queen's Gambit Declined is the opening with which white wins the least.\n",
    "working_data.query('winner == \"white\"').opening_eco.value_counts()"
   ],
   "metadata": {
    "collapsed": false,
    "ExecuteTime": {
     "start_time": "2023-04-02T07:51:08.076379Z",
     "end_time": "2023-04-02T07:51:08.085556Z"
    }
   }
  },
  {
   "cell_type": "code",
   "execution_count": 68,
   "outputs": [
    {
     "data": {
      "text/plain": "A00    538\nC00    372\nD00    340\nC20    334\nB01    319\n      ... \nB82      1\nD22      1\nB73      1\nE46      1\nC08      1\nName: opening_eco, Length: 317, dtype: int64"
     },
     "execution_count": 68,
     "metadata": {},
     "output_type": "execute_result"
    }
   ],
   "source": [
    "# The Van't Kruijs opening is much more common in games where black wins.\n",
    "working_data.query('winner == \"black\"').opening_eco.value_counts()"
   ],
   "metadata": {
    "collapsed": false,
    "ExecuteTime": {
     "start_time": "2023-04-02T08:06:02.190731Z",
     "end_time": "2023-04-02T08:06:02.197782Z"
    }
   }
  },
  {
   "cell_type": "markdown",
   "source": [
    "### Opening Plays\n",
    "In theory, sticking to book moves as closely as possible gets players to the best middle game. `opening_ply` are the number of *half-moves* by the book: an `opening_ply` of `4` means that the game stuck to theory for two turns, or four half-moves."
   ],
   "metadata": {
    "collapsed": false
   }
  },
  {
   "cell_type": "code",
   "execution_count": 75,
   "outputs": [
    {
     "data": {
      "text/plain": "<AxesSubplot: >"
     },
     "execution_count": 75,
     "metadata": {},
     "output_type": "execute_result"
    },
    {
     "data": {
      "text/plain": "<Figure size 640x480 with 1 Axes>",
      "image/png": "[encoded data removed]"
     },
     "metadata": {},
     "output_type": "display_data"
    }
   ],
   "source": [
    "sns.violinplot(working_data.opening_ply, orient='h')"
   ],
   "metadata": {
    "collapsed": false,
    "ExecuteTime": {
     "start_time": "2023-04-02T08:15:08.101938Z",
     "end_time": "2023-04-02T08:15:08.237306Z"
    }
   }
  },
  {
   "cell_type": "code",
   "execution_count": 76,
   "outputs": [
    {
     "data": {
      "text/plain": "count   19113.00\nmean        4.82\nstd         2.80\nmin         1.00\n25%         3.00\n50%         4.00\n75%         6.00\nmax        28.00\nName: opening_ply, dtype: float64"
     },
     "execution_count": 76,
     "metadata": {},
     "output_type": "execute_result"
    }
   ],
   "source": [
    "# The median number of turns by the book is two. The upper end of the distribution is three turns by the book.\n",
    "working_data.opening_ply.describe()"
   ],
   "metadata": {
    "collapsed": false,
    "ExecuteTime": {
     "start_time": "2023-04-02T08:15:21.105752Z",
     "end_time": "2023-04-02T08:15:21.111984Z"
    }
   }
  },
  {
   "cell_type": "code",
   "execution_count": 80,
   "outputs": [
    {
     "data": {
      "text/plain": "             id  rated       created_at     last_move_at  turns  \\\n4475   9bIIqx54  False 1480830000000.00 1480840000000.00     32   \n16443  BjplwwJ1   True 1481225286257.00 1481225591868.00     34   \n17900  Ms2THNEC   True 1504183548250.00 1504183846674.00     45   \n19412  YaQWFwbu   True 1502744246155.00 1502744505534.00     61   \n\n      victory_status winner increment_code      white_id  white_rating  \\\n4475       outoftime  black            5+5  ranchowangdu          1500   \n16443         resign  black           10+0      ramin741          1835   \n17900         resign  black            3+8      bratancb          2000   \n19412         resign  white           10+0    balikoevsd          1857   \n\n         black_id  black_rating  \\\n4475     boseayan          2021   \n16443  bassem1963          1733   \n17900  bosspotato          2289   \n19412   craciun05          1916   \n\n                                                   moves opening_eco  \\\n4475   e4 e5 Nf3 Nc6 Bb5 a6 Ba4 Nf6 O-O Be7 c3 O-O Re...         C89   \n16443  e4 e5 Nf3 Nc6 Bb5 a6 Ba4 Nf6 O-O b5 Bb3 Be7 Re...         C89   \n17900  e4 e5 Nf3 Nc6 Bb5 a6 Ba4 Nf6 O-O Be7 Re1 b5 Bb...         C89   \n19412  e4 e5 Nf3 Nc6 Bb5 a6 Ba4 Nf6 O-O Be7 Re1 b5 Bb...         C89   \n\n                                         opening_name  opening_ply  \\\n4475   Ruy Lopez: Marshall Attack |  Modern Main Line           28   \n16443  Ruy Lopez: Marshall Attack |  Modern Main Line           28   \n17900  Ruy Lopez: Marshall Attack |  Modern Main Line           28   \n19412  Ruy Lopez: Marshall Attack |  Modern Main Line           28   \n\n       game_length  rating_diff  \n4475   10000000.00         -521  \n16443    305611.00          102  \n17900    298424.00         -289  \n19412    259379.00          -59  ",
      "text/html": "<div>\n<style scoped>\n    .dataframe tbody tr th:only-of-type {\n        vertical-align: middle;\n    }\n\n    .dataframe tbody tr th {\n        vertical-align: top;\n    }\n\n    .dataframe thead th {\n        text-align: right;\n    }\n</style>\n<table border=\"1\" class=\"dataframe\">\n  <thead>\n    <tr style=\"text-align: right;\">\n      <th></th>\n      <th>id</th>\n      <th>rated</th>\n      <th>created_at</th>\n      <th>last_move_at</th>\n      <th>turns</th>\n      <th>victory_status</th>\n      <th>winner</th>\n      <th>increment_code</th>\n      <th>white_id</th>\n      <th>white_rating</th>\n      <th>black_id</th>\n      <th>black_rating</th>\n      <th>moves</th>\n      <th>opening_eco</th>\n      <th>opening_name</th>\n      <th>opening_ply</th>\n      <th>game_length</th>\n      <th>rating_diff</th>\n    </tr>\n  </thead>\n  <tbody>\n    <tr>\n      <th>4475</th>\n      <td>9bIIqx54</td>\n      <td>False</td>\n      <td>1480830000000.00</td>\n      <td>1480840000000.00</td>\n      <td>32</td>\n      <td>outoftime</td>\n      <td>black</td>\n      <td>5+5</td>\n      <td>ranchowangdu</td>\n      <td>1500</td>\n      <td>boseayan</td>\n      <td>2021</td>\n      <td>e4 e5 Nf3 Nc6 Bb5 a6 Ba4 Nf6 O-O Be7 c3 O-O Re...</td>\n      <td>C89</td>\n      <td>Ruy Lopez: Marshall Attack |  Modern Main Line</td>\n      <td>28</td>\n      <td>10000000.00</td>\n      <td>-521</td>\n    </tr>\n    <tr>\n      <th>16443</th>\n      <td>BjplwwJ1</td>\n      <td>True</td>\n      <td>1481225286257.00</td>\n      <td>1481225591868.00</td>\n      <td>34</td>\n      <td>resign</td>\n      <td>black</td>\n      <td>10+0</td>\n      <td>ramin741</td>\n      <td>1835</td>\n      <td>bassem1963</td>\n      <td>1733</td>\n      <td>e4 e5 Nf3 Nc6 Bb5 a6 Ba4 Nf6 O-O b5 Bb3 Be7 Re...</td>\n      <td>C89</td>\n      <td>Ruy Lopez: Marshall Attack |  Modern Main Line</td>\n      <td>28</td>\n      <td>305611.00</td>\n      <td>102</td>\n    </tr>\n    <tr>\n      <th>17900</th>\n      <td>Ms2THNEC</td>\n      <td>True</td>\n      <td>1504183548250.00</td>\n      <td>1504183846674.00</td>\n      <td>45</td>\n      <td>resign</td>\n      <td>black</td>\n      <td>3+8</td>\n      <td>bratancb</td>\n      <td>2000</td>\n      <td>bosspotato</td>\n      <td>2289</td>\n      <td>e4 e5 Nf3 Nc6 Bb5 a6 Ba4 Nf6 O-O Be7 Re1 b5 Bb...</td>\n      <td>C89</td>\n      <td>Ruy Lopez: Marshall Attack |  Modern Main Line</td>\n      <td>28</td>\n      <td>298424.00</td>\n      <td>-289</td>\n    </tr>\n    <tr>\n      <th>19412</th>\n      <td>YaQWFwbu</td>\n      <td>True</td>\n      <td>1502744246155.00</td>\n      <td>1502744505534.00</td>\n      <td>61</td>\n      <td>resign</td>\n      <td>white</td>\n      <td>10+0</td>\n      <td>balikoevsd</td>\n      <td>1857</td>\n      <td>craciun05</td>\n      <td>1916</td>\n      <td>e4 e5 Nf3 Nc6 Bb5 a6 Ba4 Nf6 O-O Be7 Re1 b5 Bb...</td>\n      <td>C89</td>\n      <td>Ruy Lopez: Marshall Attack |  Modern Main Line</td>\n      <td>28</td>\n      <td>259379.00</td>\n      <td>-59</td>\n    </tr>\n  </tbody>\n</table>\n</div>"
     },
     "execution_count": 80,
     "metadata": {},
     "output_type": "execute_result"
    }
   ],
   "source": [
    "# Let's see more info about the games that went 14 full turns by the book.\n",
    "# These games all featured high-level players playing the Modern Main Line of the Ruy Lopez Marshall Attack.\n",
    "working_data.query('opening_ply == 28')"
   ],
   "metadata": {
    "collapsed": false,
    "ExecuteTime": {
     "start_time": "2023-04-02T08:17:38.603309Z",
     "end_time": "2023-04-02T08:17:38.605743Z"
    }
   }
  }
 ],
 "metadata": {
  "kernelspec": {
   "display_name": "Python 3",
   "language": "python",
   "name": "python3"
  },
  "language_info": {
   "codemirror_mode": {
    "name": "ipython",
    "version": 2
   },
   "file_extension": ".py",
   "mimetype": "text/x-python",
   "name": "python",
   "nbconvert_exporter": "python",
   "pygments_lexer": "ipython2",
   "version": "2.7.6"
  }
 },
 "nbformat": 4,
 "nbformat_minor": 0
}
